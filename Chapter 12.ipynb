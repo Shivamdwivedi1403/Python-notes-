{
 "cells": [
  {
   "cell_type": "code",
   "execution_count": null,
   "metadata": {},
   "outputs": [],
   "source": [
    "while(True):\n",
    "    print(\"Press q to quit\")\n",
    "    a = input(\"Enter a number: \")\n",
    "    if a == 'q':\n",
    "        break\n",
    "    try:\n",
    "        print(\"Trying...\")\n",
    "        a = int(a)\n",
    "        if a>6:\n",
    "            print(\"You entered a number greater than 6\")\n",
    "    except Exception as e:\n",
    "        print(f\"Your input resulted in an error: {e}\")\n",
    "\n",
    "print(\"Thanks for playing this game\")"
   ]
  },
  {
   "cell_type": "code",
   "execution_count": null,
   "metadata": {},
   "outputs": [],
   "source": [
    "try:\n",
    "    a = int(input(\"Enter a number: \"))\n",
    "    c = 1/a\n",
    "    print(c)\n",
    "    \n",
    "except ValueError as e:\n",
    "    print(\"Please Enter a valid value\") \n",
    "\n",
    "except ZeroDivisionError as e:\n",
    "    print(\"Make sure you are not dividing by 0\") \n",
    "\n",
    "print(\"Thanks for using this code!\")"
   ]
  },
  {
   "cell_type": "code",
   "execution_count": null,
   "metadata": {},
   "outputs": [],
   "source": [
    "def increment(num):\n",
    "    try:\n",
    "        return int(num) + 1\n",
    "    except:\n",
    "        raise ValueError(\"This is not good - Harry\")\n",
    "\n",
    "a = increment('df364')\n",
    "print(a)"
   ]
  },
  {
   "cell_type": "code",
   "execution_count": null,
   "metadata": {},
   "outputs": [],
   "source": [
    "try:\n",
    "    i = int(input(\"Enter a number: \"))\n",
    "    c = 1/i\n",
    "except Exception as e:\n",
    "    print(e)\n",
    "else:\n",
    "    print(\"We were successful\")"
   ]
  },
  {
   "cell_type": "code",
   "execution_count": null,
   "metadata": {},
   "outputs": [],
   "source": [
    "try:\n",
    "    i = int(input(\"Enter a number: \"))\n",
    "    c = 1/i\n",
    "except Exception as e:\n",
    "    print(e)\n",
    "    exit()\n",
    "finally:\n",
    "    print(\"We are done\")\n",
    "\n",
    "print(\"Thanks for using the program\")"
   ]
  },
  {
   "cell_type": "code",
   "execution_count": null,
   "metadata": {},
   "outputs": [],
   "source": [
    "a = 54 # Global variable\n",
    "def func1():\n",
    "    global a\n",
    "    print(f\"Print statement 1: {a}\")\n",
    "    a = 8 # Local Variable if global keyword is not used\n",
    "    print(f\"Print statement 2: {a}\")\n",
    "\n",
    "func1()\n",
    "print(f\"Print statement 3: {a}\")"
   ]
  },
  {
   "cell_type": "code",
   "execution_count": null,
   "metadata": {},
   "outputs": [],
   "source": [
    "list1 = [3, 53, 2, False, 6.2, \"Harry\"]\n",
    "\n",
    "# index = 0\n",
    "# for item in list1:\n",
    "#     print(item, index)\n",
    "#     index += 1\n",
    "\n",
    "for index, item in enumerate(list1):\n",
    "    print(item, index)"
   ]
  },
  {
   "cell_type": "code",
   "execution_count": null,
   "metadata": {},
   "outputs": [],
   "source": [
    "a = [3, 6, 7, 8, 9, 2, 4, 23, 75, 23, 123, 67]\n",
    "# b = []\n",
    "# for item in a:\n",
    "#     if item%2==0:\n",
    "#         b.append(item)\n",
    "# print(b)\n",
    "\n",
    "# Shortcut to write the same:\n",
    "b = [i for i in a if i%2==0]\n",
    "print(b)\n",
    "\n",
    "t = [1, 4, 2, 4, 1, 2, 3]\n",
    "s = {i for i in t}\n",
    "print(s)"
   ]
  },
  {
   "cell_type": "code",
   "execution_count": null,
   "metadata": {},
   "outputs": [],
   "source": [
    "def readFile(filename):\n",
    "    try:\n",
    "        with open(filename, \"r\") as f:\n",
    "            print(f.read())\n",
    "    except FileNotFoundError:\n",
    "        print(f\"File {filename} is not found\")\n",
    "        \n",
    "readFile(\"1.txt\")\n",
    "readFile(\"2.txt\")\n",
    "readFile(\"3.txt\")"
   ]
  },
  {
   "cell_type": "code",
   "execution_count": null,
   "metadata": {},
   "outputs": [],
   "source": [
    "l = [1, 2, 3, 4, 5, 6, 7, 8, 9, 10]\n",
    "for index, item in enumerate(l):\n",
    "    if index==2 or index== 4 or index==6:\n",
    "        # print(index, item)\n",
    "        print(f\"The {index + 1}th element is {item}\")"
   ]
  },
  {
   "cell_type": "code",
   "execution_count": null,
   "metadata": {},
   "outputs": [],
   "source": [
    "num = int(input(\"Enter your number: \"))\n",
    "\n",
    "table = [num*i for i in range(1, 11)]\n",
    "print(table)"
   ]
  },
  {
   "cell_type": "code",
   "execution_count": null,
   "metadata": {},
   "outputs": [],
   "source": [
    "a = int(input(\"Enter number a: \"))\n",
    "b = int(input(\"Enter number b: \"))\n",
    "\n",
    "try:\n",
    "    print(a/b)\n",
    "except:\n",
    "    print(\"Infinite\")"
   ]
  },
  {
   "cell_type": "code",
   "execution_count": null,
   "metadata": {},
   "outputs": [],
   "source": [
    "num = int(input(\"Enter your number: \"))\n",
    "\n",
    "table = [num*i for i in range(1, 11)]\n",
    "print(table)\n",
    "with open(\"tables.txt\", \"a\") as f:\n",
    "    f.write(str(table))\n",
    "    f.write('\\n')"
   ]
  },
  {
   "cell_type": "code",
   "execution_count": null,
   "metadata": {},
   "outputs": [],
   "source": []
  },
  {
   "cell_type": "code",
   "execution_count": null,
   "metadata": {},
   "outputs": [],
   "source": []
  },
  {
   "cell_type": "code",
   "execution_count": null,
   "metadata": {},
   "outputs": [],
   "source": []
  },
  {
   "cell_type": "code",
   "execution_count": null,
   "metadata": {},
   "outputs": [],
   "source": []
  },
  {
   "cell_type": "code",
   "execution_count": null,
   "metadata": {},
   "outputs": [],
   "source": []
  },
  {
   "cell_type": "code",
   "execution_count": null,
   "metadata": {},
   "outputs": [],
   "source": []
  },
  {
   "cell_type": "code",
   "execution_count": null,
   "metadata": {},
   "outputs": [],
   "source": []
  },
  {
   "cell_type": "code",
   "execution_count": null,
   "metadata": {},
   "outputs": [],
   "source": []
  },
  {
   "cell_type": "code",
   "execution_count": null,
   "metadata": {},
   "outputs": [],
   "source": []
  },
  {
   "cell_type": "code",
   "execution_count": null,
   "metadata": {},
   "outputs": [],
   "source": []
  },
  {
   "cell_type": "code",
   "execution_count": null,
   "metadata": {},
   "outputs": [],
   "source": []
  },
  {
   "cell_type": "code",
   "execution_count": null,
   "metadata": {},
   "outputs": [],
   "source": []
  },
  {
   "cell_type": "code",
   "execution_count": null,
   "metadata": {},
   "outputs": [],
   "source": []
  },
  {
   "cell_type": "code",
   "execution_count": null,
   "metadata": {},
   "outputs": [],
   "source": []
  }
 ],
 "metadata": {
  "kernelspec": {
   "display_name": "Python 3",
   "language": "python",
   "name": "python3"
  },
  "language_info": {
   "codemirror_mode": {
    "name": "ipython",
    "version": 3
   },
   "file_extension": ".py",
   "mimetype": "text/x-python",
   "name": "python",
   "nbconvert_exporter": "python",
   "pygments_lexer": "ipython3",
   "version": "3.8.3"
  }
 },
 "nbformat": 4,
 "nbformat_minor": 4
}
