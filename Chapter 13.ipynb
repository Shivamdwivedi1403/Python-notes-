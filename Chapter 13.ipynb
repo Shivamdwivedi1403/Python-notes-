{
 "cells": [
  {
   "cell_type": "code",
   "execution_count": null,
   "metadata": {},
   "outputs": [],
   "source": [
    "# For MacOS/linux users: source myprojectenv/bin/activate\n",
    "# For windows powershell users: .\\myprojectenv\\Scripts\\activate.ps1\n",
    "# https://stackoverflow.com/questions/18713086/virtualenv-wont-activate-on-windows\n",
    "\n",
    "import flask # flask - 0.5.2\n",
    "import pandas as pd\n",
    "import pygame"
   ]
  },
  {
   "cell_type": "code",
   "execution_count": null,
   "metadata": {},
   "outputs": [],
   "source": [
    "# def func(a):\n",
    "#     return a+5\n",
    "\n",
    "func = lambda a: a+5\n",
    "square = lambda x: x*x\n",
    "sum = lambda a, b, c: a+b+c\n",
    "\n",
    "x = 3\n",
    "print(func(x)) # Prints 8\n",
    "print(square(x)) # Prints 9\n",
    "print(sum(x, 1, 2)) # Prints 6"
   ]
  },
  {
   "cell_type": "code",
   "execution_count": null,
   "metadata": {},
   "outputs": [],
   "source": [
    "l = [\"Camera\", \"Laptop\", \"Phone\", \"ipad\", \"Hard Disk\", \"Nvidia Graphic 3080 card\"]\n",
    "\n",
    "# sentence = \"~~\".join(l)\n",
    "# sentence = \"==\".join(l)\n",
    "sentence = \"\\n\".join(l)\n",
    "print(sentence)\n",
    "print(type(sentence))"
   ]
  },
  {
   "cell_type": "code",
   "execution_count": null,
   "metadata": {},
   "outputs": [],
   "source": [
    "name = \"Harry\"\n",
    "channel = \"CodeWithHarry\"\n",
    "type = \"Coding\"\n",
    "# a = f\"This is {name}\"\n",
    "# a = \"This is {}\".format(name)\n",
    "# a = \"This is {} and his channel is {}\".format(name, channel)\n",
    "# a = \"This is {0} and his {2} channel is {1}\".format(name, channel, type)\n",
    "a = \"This is {} and his {} channel is {}\".format(name, channel, type)\n",
    "\n",
    "print(a)"
   ]
  },
  {
   "cell_type": "code",
   "execution_count": null,
   "metadata": {},
   "outputs": [],
   "source": [
    "def square(num):\n",
    "    return num*num\n",
    "\n",
    "l = [1, 2, 4]\n",
    "\n",
    "# Method 1\n",
    "l2 = []\n",
    "for item in l:\n",
    "    l2.append(square(item))\n",
    "print(l2)\n",
    "\n",
    "# Method 2\n",
    "print(list(map(square, l)))"
   ]
  },
  {
   "cell_type": "code",
   "execution_count": null,
   "metadata": {},
   "outputs": [],
   "source": [
    "# Filter Syntax: list(filter(function, list))\n",
    "def greater_than_5(num):\n",
    "    if num > 5:\n",
    "        return True\n",
    "    else:\n",
    "        return False\n",
    "\n",
    "g10 = lambda num: num>10\n",
    "\n",
    "l = [1, 2, 3, 4, 5, 6, 7, 8, 89, 98]\n",
    "print(list(filter(greater_than_5, l)))\n",
    "print(list(filter(g10, l)))"
   ]
  },
  {
   "cell_type": "code",
   "execution_count": null,
   "metadata": {},
   "outputs": [],
   "source": [
    "from functools import reduce\n",
    "\n",
    "sum = lambda a, b: a+b\n",
    "\n",
    "l = [1, 2, 3, 4]\n",
    "val = reduce(sum, l)\n",
    "print(val)"
   ]
  },
  {
   "cell_type": "code",
   "execution_count": null,
   "metadata": {},
   "outputs": [],
   "source": [
    "name = input(\"Enter your name: \")\n",
    "marks = input(\"Enter your marks: \")\n",
    "phone = input(\"Enter you phone Number: \")\n",
    "\n",
    "template = \"The name of the student is {}, his marks are {} and phone number is {} \"\n",
    "output = template.format(name, marks, phone)\n",
    "print(output)"
   ]
  },
  {
   "cell_type": "code",
   "execution_count": null,
   "metadata": {},
   "outputs": [],
   "source": [
    "l = [str(i*7) for i in range(1, 11)]\n",
    "print(l)\n",
    "\n",
    "verticalTable = \"\\n\".join(l)\n",
    "print(verticalTable)"
   ]
  },
  {
   "cell_type": "code",
   "execution_count": null,
   "metadata": {},
   "outputs": [],
   "source": [
    "l = [1, 2, 3, 4, 5, 6, 7, 8, 9, 1, 2, 3, 4, 54, 23, 55, 90, 60]\n",
    "\n",
    "a = filter(lambda a: a%5==0, l)\n",
    "print(list(a))"
   ]
  },
  {
   "cell_type": "code",
   "execution_count": null,
   "metadata": {},
   "outputs": [],
   "source": [
    "from functools import reduce\n",
    "l = [3, 8, 455, 2, 5, 45]\n",
    "\n",
    "a = reduce(max, l)\n",
    "print(a)"
   ]
  },
  {
   "cell_type": "code",
   "execution_count": null,
   "metadata": {},
   "outputs": [],
   "source": [
    "from flask import Flask\n",
    "app = Flask(__name__)\n",
    "\n",
    "@app.route('/')\n",
    "def hello_world():\n",
    "    return '''<!doctype html>\n",
    "        <html lang=\"en\">\n",
    "        <head>\n",
    "            <!-- Required meta tags -->\n",
    "            <meta charset=\"utf-8\">\n",
    "            <meta name=\"viewport\" content=\"width=device-width, initial-scale=1, shrink-to-fit=no\">\n",
    "\n",
    "            <!-- Bootstrap CSS -->\n",
    "            <link rel=\"stylesheet\" href=\"https://stackpath.bootstrapcdn.com/bootstrap/4.5.2/css/bootstrap.min.css\" integrity=\"sha384-JcKb8q3iqJ61gNV9KGb8thSsNjpSL0n8PARn9HuZOnIxN0hoP+VmmDGMN5t9UJ0Z\" crossorigin=\"anonymous\">\n",
    "\n",
    "            <title>Hello, world!</title>\n",
    "        </head>\n",
    "        <body>\n",
    "            <h1>Hello, world!</h1>\n",
    "            <div class=\"alert alert-primary\" role=\"alert\">\n",
    "        A simple primary alert with <a href=\"#\" class=\"alert-link\">an example link</a>. Give it a click if you like.\n",
    "        </div>\n",
    "        <div class=\"alert alert-secondary\" role=\"alert\">\n",
    "        A simple secondary alert with <a href=\"#\" class=\"alert-link\">an example link</a>. Give it a click if you like.\n",
    "        </div>\n",
    "        <div class=\"alert alert-success\" role=\"alert\">\n",
    "        A simple success alert with <a href=\"#\" class=\"alert-link\">an example link</a>. Give it a click if you like.\n",
    "        </div>\n",
    "        <div class=\"alert alert-danger\" role=\"alert\">\n",
    "        A simple danger alert with <a href=\"#\" class=\"alert-link\">an example link</a>. Give it a click if you like.\n",
    "        </div>\n",
    "        <div class=\"alert alert-warning\" role=\"alert\">\n",
    "        A simple warning alert with <a href=\"#\" class=\"alert-link\">an example link</a>. Give it a click if you like.\n",
    "        </div>\n",
    "        <div class=\"alert alert-info\" role=\"alert\">\n",
    "        A simple info alert with <a href=\"#\" class=\"alert-link\">an example link</a>. Give it a click if you like.\n",
    "        </div>\n",
    "        <div class=\"alert alert-light\" role=\"alert\">\n",
    "        A simple light alert with <a href=\"#\" class=\"alert-link\">an example link</a>. Give it a click if you like.\n",
    "        </div>\n",
    "        <div class=\"alert alert-dark\" role=\"alert\">\n",
    "        A simple dark alert with <a href=\"#\" class=\"alert-link\">an example link</a>. Give it a click if you like.\n",
    "        </div>\n",
    "            <!-- Optional JavaScript -->\n",
    "            <!-- jQuery first, then Popper.js, then Bootstrap JS -->\n",
    "            <script src=\"https://code.jquery.com/jquery-3.5.1.slim.min.js\" integrity=\"sha384-DfXdz2htPH0lsSSs5nCTpuj/zy4C+OGpamoFVy38MVBnE+IbbVYUew+OrCXaRkfj\" crossorigin=\"anonymous\"></script>\n",
    "            <script src=\"https://cdn.jsdelivr.net/npm/popper.js@1.16.1/dist/umd/popper.min.js\" integrity=\"sha384-9/reFTGAW83EW2RDu2S0VKaIzap3H66lZH81PoYlFhbGU+6BZp6G7niu735Sk7lN\" crossorigin=\"anonymous\"></script>\n",
    "            <script src=\"https://stackpath.bootstrapcdn.com/bootstrap/4.5.2/js/bootstrap.min.js\" integrity=\"sha384-B4gt1jrGC7Jh4AgTPSdUtOBvfO8shuf57BaghqFfPlYxofvL8/KUEfYiJOMMV+rV\" crossorigin=\"anonymous\"></script>\n",
    "        </body>\n",
    "        </html>'''\n",
    "\n",
    "if __name__ == \"__main__\":\n",
    "    app.run(debug=True)"
   ]
  },
  {
   "cell_type": "code",
   "execution_count": null,
   "metadata": {},
   "outputs": [],
   "source": []
  },
  {
   "cell_type": "code",
   "execution_count": null,
   "metadata": {},
   "outputs": [],
   "source": []
  }
 ],
 "metadata": {
  "kernelspec": {
   "display_name": "Python 3",
   "language": "python",
   "name": "python3"
  },
  "language_info": {
   "codemirror_mode": {
    "name": "ipython",
    "version": 3
   },
   "file_extension": ".py",
   "mimetype": "text/x-python",
   "name": "python",
   "nbconvert_exporter": "python",
   "pygments_lexer": "ipython3",
   "version": "3.8.3"
  }
 },
 "nbformat": 4,
 "nbformat_minor": 4
}
