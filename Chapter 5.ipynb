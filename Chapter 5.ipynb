{
 "cells": [
  {
   "cell_type": "code",
   "execution_count": null,
   "metadata": {},
   "outputs": [],
   "source": [
    "myDict = {\n",
    "    \"Fast\": \"In a Quick Manner\",\n",
    "    \"Harry\": \"A Coder\",\n",
    "    \"Marks\": [1, 2, 5],\n",
    "    \"anotherdict\": {'harry': 'Player'}\n",
    "}\n",
    "\n",
    "# print(myDict['Fast'])\n",
    "# print(myDict['Harry'])\n",
    "myDict['Marks'] = [45, 78]\n",
    "print(myDict['Marks'])\n",
    "print(myDict['anotherdict']['harry'])"
   ]
  },
  {
   "cell_type": "code",
   "execution_count": null,
   "metadata": {},
   "outputs": [],
   "source": [
    "myDict = {\n",
    "    \"fast\": \"In a Quick Manner\",\n",
    "    \"harry\": \"A Coder\",\n",
    "    \"marks\": [1, 2, 5],\n",
    "    \"anotherdict\": {'harry': 'Player'},\n",
    "    1: 2\n",
    "}\n",
    "\n",
    "# Dictionary Methods\n",
    "print(list(myDict.keys())) # Prints the keys of the dictionary\n",
    "print(myDict.values()) # Prints the keys of the dictionary \n",
    "print(myDict.items()) # Prints the (key, value) for all contents of the dictionary \n",
    "print(myDict)\n",
    "updateDict = {\n",
    "    \"Lovish\": \"Friend\",\n",
    "    \"Divya\": \"Friend\",\n",
    "    \"Shubham\": \"Friend\",\n",
    "    \"harry\": \"A Dancer\"\n",
    "}\n",
    "myDict.update(updateDict) # Updates the dictionary by adding key-value pairs from updateDict\n",
    "print(myDict)\n",
    "\n",
    "print(myDict.get(\"harry\")) # Prints value associated with key \"harry\"\n",
    "print(myDict[\"harry\"]) # Prints value associated with key \"harry\"\n",
    "\n",
    "# The difference between .get and [] sytax in Dictionaries?\n",
    "print(myDict.get(\"harry2\")) # Returns None as harry2 is not present in the dictionary\n",
    "print(myDict[\"harry2\"]) # throws an error as harry2 is not present in the dictionary"
   ]
  },
  {
   "cell_type": "code",
   "execution_count": null,
   "metadata": {},
   "outputs": [],
   "source": [
    "a = {1, 3, 4, 5, 1}\n",
    "print(type(a))\n",
    "print(a)"
   ]
  },
  {
   "cell_type": "code",
   "execution_count": null,
   "metadata": {},
   "outputs": [],
   "source": [
    "# Important: This syntax will create an empty dictionary and not an empty set\n",
    "a = {}\n",
    "print(type(a))\n",
    "\n",
    "# An empty set can be created using the below syntax:\n",
    "b = set()\n",
    "print(type(b))\n"
   ]
  },
  {
   "cell_type": "code",
   "execution_count": null,
   "metadata": {},
   "outputs": [],
   "source": [
    "# Creating an empty set\n",
    "b = set()\n",
    "print(type(b))\n",
    "\n",
    "## Adding values to an empty set\n",
    "b.add(4)\n",
    "b.add(4)\n",
    "b.add(5)\n",
    "b.add(5) # Adding a value repeatedly does not changes a set\n",
    "b.add((4, 5, 6))\n",
    "\n",
    "## Accessing Elements\n",
    "# b.add({4:5}) # Cannot add list or dictionary to sets\n",
    "print(b)\n",
    "\n",
    "## Length of the Set\n",
    "print(len(b)) # Prints the length of this set\n",
    "\n",
    "## Removal of an Item\n",
    "b.remove(5) # Removes 5 fromt set b\n",
    "# b.remove(15) # throws an error while trying to remove 15 (which is not present in the set)\n",
    "print(b)\n",
    "\n",
    "print(b.pop())\n",
    "print(b)"
   ]
  },
  {
   "cell_type": "code",
   "execution_count": null,
   "metadata": {},
   "outputs": [],
   "source": [
    "myDict = {\n",
    "    \"Pankha\": \"Fan\",\n",
    "    \"Dabba\": \"Box\",\n",
    "    \"Vastu\": \"Item\"\n",
    "}\n",
    "print(\"Options are \", myDict.keys())\n",
    "a = input(\"Enter the Hindi Word\\n\")\n",
    "# print(\"The meaning of your word is:\", myDict[a])\n",
    "\n",
    "# Below line will not throw an error if the key is not present in the dictionary\n",
    "print(\"The meaning of your word is:\", myDict.get(a))"
   ]
  },
  {
   "cell_type": "code",
   "execution_count": null,
   "metadata": {},
   "outputs": [],
   "source": [
    "num1 = int(input(\"Enter number 1\\n\"))\n",
    "num2 = int(input(\"Enter number 2\\n\"))\n",
    "num3 = int(input(\"Enter number 3\\n\"))\n",
    "num4 = int(input(\"Enter number 4\\n\"))\n",
    "num5 = int(input(\"Enter number 5\\n\"))\n",
    "num6 = int(input(\"Enter number 6\\n\"))\n",
    "num7 = int(input(\"Enter number 7\\n\"))\n",
    "num8 = int(input(\"Enter number 8\\n\"))\n",
    "\n",
    "s = {num1, num2, num3, num4, num5, num6, num7, num8}\n",
    "print(s)"
   ]
  },
  {
   "cell_type": "code",
   "execution_count": null,
   "metadata": {},
   "outputs": [],
   "source": [
    "s = {18, \"18\", 18.1}\n",
    "print(s)"
   ]
  },
  {
   "cell_type": "code",
   "execution_count": null,
   "metadata": {},
   "outputs": [],
   "source": [
    "s = {20, 20.0, \"20\"}\n",
    "print(s)\n",
    "print(len(s)) "
   ]
  },
  {
   "cell_type": "code",
   "execution_count": null,
   "metadata": {},
   "outputs": [],
   "source": [
    "favLang = {}\n",
    "a = input(\"Enter your favorite language Shubham\\n\")\n",
    "b = input(\"Enter your favorite language Ankit\\n\")\n",
    "c = input(\"Enter your favorite language Sonali\\n\")\n",
    "d = input(\"Enter your favorite language Harshita\\n\")\n",
    "favLang['shubham'] = a\n",
    "favLang['ankit'] = b\n",
    "favLang['sonali'] = c\n",
    "favLang['harshita'] = d\n",
    "\n",
    "print(favLang)"
   ]
  },
  {
   "cell_type": "code",
   "execution_count": null,
   "metadata": {},
   "outputs": [],
   "source": []
  },
  {
   "cell_type": "code",
   "execution_count": null,
   "metadata": {},
   "outputs": [],
   "source": []
  }
 ],
 "metadata": {
  "kernelspec": {
   "display_name": "Python 3",
   "language": "python",
   "name": "python3"
  },
  "language_info": {
   "codemirror_mode": {
    "name": "ipython",
    "version": 3
   },
   "file_extension": ".py",
   "mimetype": "text/x-python",
   "name": "python",
   "nbconvert_exporter": "python",
   "pygments_lexer": "ipython3",
   "version": "3.8.3"
  }
 },
 "nbformat": 4,
 "nbformat_minor": 4
}
