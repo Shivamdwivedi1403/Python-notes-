{
 "cells": [
  {
   "cell_type": "code",
   "execution_count": null,
   "metadata": {},
   "outputs": [],
   "source": [
    "# Use open function to read the content of a file!\n",
    "# f = open('sample.txt', 'r')\n",
    "f = open('sample.txt') # by default the mode is r\n",
    "# data = f.read()\n",
    "data = f.read(5) # reads first 5 characters from the file\n",
    "print(data)\n",
    "f.close()"
   ]
  },
  {
   "cell_type": "code",
   "execution_count": null,
   "metadata": {},
   "outputs": [],
   "source": [
    "f = open('sample.txt')\n",
    "# read first line\n",
    "data = f.readline() \n",
    "print(data)\n",
    "\n",
    "# Read second line\n",
    "data = f.readline() \n",
    "print(data)\n",
    "\n",
    "# Read third line\n",
    "data = f.readline() \n",
    "print(data)\n",
    "\n",
    "# Read fourth line... and so on...\n",
    "data = f.readline() \n",
    "print(data)\n",
    "f.close()"
   ]
  },
  {
   "cell_type": "code",
   "execution_count": null,
   "metadata": {},
   "outputs": [],
   "source": [
    "f = open('another.txt', 'w')\n",
    "f.write(\"I am writing\") \n",
    "f.close()"
   ]
  },
  {
   "cell_type": "code",
   "execution_count": null,
   "metadata": {},
   "outputs": [],
   "source": [
    "with open('another.txt', 'r') as f:\n",
    "    a = f.read()\n",
    "with open('another.txt', 'w') as f:\n",
    "    a = f.write(\"me\")\n",
    "print(a)"
   ]
  },
  {
   "cell_type": "code",
   "execution_count": null,
   "metadata": {},
   "outputs": [],
   "source": [
    "f = open('poems.txt')\n",
    "t = f.read()\n",
    "if 'twinkle' in t:\n",
    "    print(\"Twinkle is present\")\n",
    "else:\n",
    "    print(\"Twinkle is not present\")\n",
    "f.close()"
   ]
  },
  {
   "cell_type": "code",
   "execution_count": null,
   "metadata": {},
   "outputs": [],
   "source": [
    "def game():\n",
    "    return 44677\n",
    "\n",
    "score = game()\n",
    "with open(\"hiscore.txt\") as f:\n",
    "    hiScoreStr = f.read()\n",
    "    \n",
    "if hiScoreStr=='':\n",
    "    with open(\"hiscore.txt\", \"w\") as f:\n",
    "        f.write(str(score))\n",
    "\n",
    "elif int(hiScoreStr)<score :\n",
    "    with open(\"hiscore.txt\", \"w\") as f:\n",
    "        f.write(str(score))"
   ]
  },
  {
   "cell_type": "code",
   "execution_count": null,
   "metadata": {},
   "outputs": [],
   "source": [
    "\n",
    "for i in range(2, 21):\n",
    "    with open(f\"tables/Multiplication_table_of_{i}.txt\", 'w') as f:\n",
    "        for j in range(1, 11):\n",
    "            f.write(f\"{i}X{j}={i*j}\")\n",
    "            if j!=10:\n",
    "                f.write('\\n')\n"
   ]
  },
  {
   "cell_type": "code",
   "execution_count": null,
   "metadata": {},
   "outputs": [],
   "source": [
    "with open(\"sample.txt\") as f:\n",
    "    content = f.read()\n",
    "\n",
    "content = content.replace(\"donkey\", \"$%^@$^#\")\n",
    "\n",
    "with open(\"sample.txt\", \"w\") as f:\n",
    "    f.write(content)"
   ]
  },
  {
   "cell_type": "code",
   "execution_count": null,
   "metadata": {},
   "outputs": [],
   "source": [
    "words = [\"donkey\", \"kaddu\", \"mote\"]\n",
    "\n",
    "with open(\"sample.txt\") as f:\n",
    "    content = f.read()\n",
    "\n",
    "\n",
    "for word in words:\n",
    "    content = content.replace(word, \"$%^@$^#\")\n",
    "    with open(\"sample.txt\", \"w\") as f:\n",
    "        f.write(content)"
   ]
  },
  {
   "cell_type": "code",
   "execution_count": null,
   "metadata": {},
   "outputs": [],
   "source": [
    "with open(\"log.txt\") as f:\n",
    "    content = f.read()\n",
    "\n",
    "if 'python' in content.lower():\n",
    "    print(\"Yes python is present\")\n",
    "else:\n",
    "    print(\"No python is not present\")"
   ]
  },
  {
   "cell_type": "code",
   "execution_count": null,
   "metadata": {},
   "outputs": [],
   "source": [
    "content = True\n",
    "i = 1\n",
    "with open(\"log.txt\") as f:\n",
    "    while content:\n",
    "        content = f.readline()\n",
    "        if 'python' in content.lower():\n",
    "            print(content)\n",
    "            print(f\"Yes python is present on line number {i}\") \n",
    "        i+=1"
   ]
  },
  {
   "cell_type": "code",
   "execution_count": null,
   "metadata": {},
   "outputs": [],
   "source": [
    "with open(\"this.txt\") as f:\n",
    "    content = f.read()\n",
    "\n",
    "with open(\"copy.txt\", 'w') as f:\n",
    "    f.write(content)"
   ]
  },
  {
   "cell_type": "code",
   "execution_count": null,
   "metadata": {},
   "outputs": [],
   "source": [
    "file1 = \"log.txt\"\n",
    "file2 = \"this.txt\"\n",
    "\n",
    "with open(file1) as f:\n",
    "    f1 = f.read()\n",
    "\n",
    "with open(file2) as f:\n",
    "    f2= f.read()\n",
    "\n",
    "if f1 == f2:\n",
    "    print(\"Files are identical\")\n",
    "else:\n",
    "    print(\"Files are not identical\")"
   ]
  },
  {
   "cell_type": "code",
   "execution_count": null,
   "metadata": {},
   "outputs": [],
   "source": [
    "filename = \"sample.txt\"\n",
    "with open(filename, \"w\") as f:\n",
    "    f.write(\"\")"
   ]
  },
  {
   "cell_type": "code",
   "execution_count": null,
   "metadata": {},
   "outputs": [],
   "source": [
    "import os\n",
    "\n",
    "oldname = \"sample2.txt\"\n",
    "newname = \"renamed_by_python.txt\"\n",
    "with open(oldname) as f:\n",
    "    content = f.read()\n",
    "\n",
    "with open(newname, \"w\") as f:\n",
    "    f.write(content)\n",
    "\n",
    "os.remove(oldname)"
   ]
  },
  {
   "cell_type": "code",
   "execution_count": null,
   "metadata": {},
   "outputs": [],
   "source": []
  },
  {
   "cell_type": "code",
   "execution_count": null,
   "metadata": {},
   "outputs": [],
   "source": []
  },
  {
   "cell_type": "code",
   "execution_count": null,
   "metadata": {},
   "outputs": [],
   "source": []
  },
  {
   "cell_type": "code",
   "execution_count": null,
   "metadata": {},
   "outputs": [],
   "source": []
  },
  {
   "cell_type": "code",
   "execution_count": null,
   "metadata": {},
   "outputs": [],
   "source": []
  }
 ],
 "metadata": {
  "kernelspec": {
   "display_name": "Python 3",
   "language": "python",
   "name": "python3"
  },
  "language_info": {
   "codemirror_mode": {
    "name": "ipython",
    "version": 3
   },
   "file_extension": ".py",
   "mimetype": "text/x-python",
   "name": "python",
   "nbconvert_exporter": "python",
   "pygments_lexer": "ipython3",
   "version": "3.8.3"
  }
 },
 "nbformat": 4,
 "nbformat_minor": 4
}
